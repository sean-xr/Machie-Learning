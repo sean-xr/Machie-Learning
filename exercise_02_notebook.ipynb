{
 "cells": [
  {
   "cell_type": "markdown",
   "metadata": {},
   "source": [
    "# Programming assignment 1: k-Nearest Neighbors classification"
   ]
  },
  {
   "cell_type": "code",
   "execution_count": 1,
   "metadata": {},
   "outputs": [],
   "source": [
    "import numpy as np\n",
    "from sklearn import datasets, model_selection\n",
    "import matplotlib.pyplot as plt\n",
    "%matplotlib inline  "
   ]
  },
  {
   "cell_type": "markdown",
   "metadata": {},
   "source": [
    "## Your task\n",
    "In this notebook code to perform k-NN classification is provided. However, some functions are incomplete. Your task is to fill in the missing code and run the entire notebook. \n",
    "\n",
    "You are only allowed to use the imported packages. Importing anything else is NOT allowed. \n",
    "\n",
    "In the beginning of every function there is docstring, which specifies the format of input and output. Write your code in a way that adheres to it.\n",
    "You may only use plain python and `numpy` functions (i.e. no scikit-learn classifiers).\n",
    "\n",
    "In addition, we strongly recommend you to solve this task **without a single for loop**, i.e., only via vectorized (`numpy`) operations."
   ]
  },
  {
   "cell_type": "markdown",
   "metadata": {},
   "source": [
    "## Introduction\n",
    "For those of you new to Python, there are lots of tutorials online, just pick whichever you like best :)\n",
    "\n",
    "If you never worked with Numpy or Jupyter before, you can check out these guides\n",
    "* https://docs.scipy.org/doc/numpy-dev/user/quickstart.html\n",
    "* http://jupyter.readthedocs.io/en/latest/"
   ]
  },
  {
   "cell_type": "markdown",
   "metadata": {},
   "source": [
    "## Load dataset\n",
    "The iris data set (https://en.wikipedia.org/wiki/Iris_flower_data_set) is loaded and split into train and test parts by the function `load_dataset`."
   ]
  },
  {
   "cell_type": "markdown",
   "metadata": {},
   "source": [
    "## Exporting the results to PDF\n",
    "Once you complete the assignments, export the entire notebook as PDF and attach it to your homework solutions. \n",
    "The best way of doing that is\n",
    "1. Run all the cells of the notebook.\n",
    "2. Export/download the notebook as PDF (File -> Download as -> PDF via LaTeX (.pdf)).\n",
    "3. Concatenate your solutions for other tasks with the output of Step 2. On a Linux machine you can simply use `pdfunite`, there are similar tools for other platforms too. You can only upload a single PDF file to Moodle.\n",
    "\n",
    "Make sure you are using `nbconvert` Version 5.5 or later by running `jupyter nbconvert --version`. Older versions clip lines that exceed page width, which makes your code harder to grade."
   ]
  },
  {
   "cell_type": "code",
   "execution_count": 2,
   "metadata": {},
   "outputs": [
    {
     "ename": "NameError",
     "evalue": "name 'load_dataset' is not defined",
     "output_type": "error",
     "traceback": [
      "\u001b[1;31m---------------------------------------------------------------------------\u001b[0m",
      "\u001b[1;31mNameError\u001b[0m                                 Traceback (most recent call last)",
      "\u001b[1;32m<ipython-input-2-399964791c83>\u001b[0m in \u001b[0;36m<module>\u001b[1;34m\u001b[0m\n\u001b[0;32m      1\u001b[0m \u001b[1;31m# prepare data\u001b[0m\u001b[1;33m\u001b[0m\u001b[1;33m\u001b[0m\u001b[1;33m\u001b[0m\u001b[0m\n\u001b[0;32m      2\u001b[0m \u001b[0msplit\u001b[0m \u001b[1;33m=\u001b[0m \u001b[1;36m0.75\u001b[0m\u001b[1;33m\u001b[0m\u001b[1;33m\u001b[0m\u001b[0m\n\u001b[1;32m----> 3\u001b[1;33m \u001b[0mX_train\u001b[0m\u001b[1;33m,\u001b[0m \u001b[0mX_test\u001b[0m\u001b[1;33m,\u001b[0m \u001b[0my_train\u001b[0m\u001b[1;33m,\u001b[0m \u001b[0my_test\u001b[0m \u001b[1;33m=\u001b[0m \u001b[0mload_dataset\u001b[0m\u001b[1;33m(\u001b[0m\u001b[0msplit\u001b[0m\u001b[1;33m)\u001b[0m\u001b[1;33m\u001b[0m\u001b[1;33m\u001b[0m\u001b[0m\n\u001b[0m",
      "\u001b[1;31mNameError\u001b[0m: name 'load_dataset' is not defined"
     ]
    }
   ],
   "source": [
    "# prepare data\n",
    "split = 0.75\n",
    "X_train, X_test, y_train, y_test = load_dataset(split)"
   ]
  },
  {
   "cell_type": "code",
   "execution_count": 3,
   "metadata": {},
   "outputs": [],
   "source": [
    "def load_dataset(split):\n",
    "    \"\"\"Load and split the dataset into training and test parts.\n",
    "    \n",
    "    Parameters\n",
    "    ----------\n",
    "    split : float in range (0, 1)\n",
    "        Fraction of the data used for training.\n",
    "    \n",
    "    Returns\n",
    "    -------\n",
    "    X_train : array, shape (N_train, 4)\n",
    "        Training features.\n",
    "    y_train : array, shape (N_train)\n",
    "        Training labels.\n",
    "    X_test : array, shape (N_test, 4)\n",
    "        Test features.\n",
    "    y_test : array, shape (N_test)\n",
    "        Test labels.\n",
    "    \"\"\"\n",
    "    dataset = datasets.load_iris()\n",
    "    X, y = dataset['data'], dataset['target']\n",
    "    X_train, X_test, y_train, y_test = model_selection.train_test_split(X, y, random_state=123, test_size=(1 - split))\n",
    "    return X_train, X_test, y_train, y_test"
   ]
  },
  {
   "cell_type": "code",
   "execution_count": 4,
   "metadata": {},
   "outputs": [
    {
     "ename": "NameError",
     "evalue": "name 'X_train' is not defined",
     "output_type": "error",
     "traceback": [
      "\u001b[1;31m---------------------------------------------------------------------------\u001b[0m",
      "\u001b[1;31mNameError\u001b[0m                                 Traceback (most recent call last)",
      "\u001b[1;32m<ipython-input-4-470f276154d1>\u001b[0m in \u001b[0;36m<module>\u001b[1;34m\u001b[0m\n\u001b[0;32m     11\u001b[0m             \u001b[0maxes\u001b[0m\u001b[1;33m[\u001b[0m\u001b[0mi\u001b[0m\u001b[1;33m,\u001b[0m\u001b[0mj\u001b[0m\u001b[1;33m]\u001b[0m\u001b[1;33m.\u001b[0m\u001b[0mtext\u001b[0m\u001b[1;33m(\u001b[0m\u001b[1;36m0.5\u001b[0m\u001b[1;33m,\u001b[0m \u001b[1;36m0.5\u001b[0m\u001b[1;33m,\u001b[0m \u001b[1;34m'Petal. width'\u001b[0m\u001b[1;33m,\u001b[0m \u001b[0mha\u001b[0m\u001b[1;33m=\u001b[0m\u001b[1;34m'center'\u001b[0m\u001b[1;33m,\u001b[0m \u001b[0mva\u001b[0m\u001b[1;33m=\u001b[0m\u001b[1;34m'center'\u001b[0m\u001b[1;33m,\u001b[0m \u001b[0msize\u001b[0m\u001b[1;33m=\u001b[0m\u001b[1;36m24\u001b[0m\u001b[1;33m,\u001b[0m \u001b[0malpha\u001b[0m\u001b[1;33m=\u001b[0m\u001b[1;36m.5\u001b[0m\u001b[1;33m)\u001b[0m\u001b[1;33m\u001b[0m\u001b[1;33m\u001b[0m\u001b[0m\n\u001b[0;32m     12\u001b[0m         \u001b[1;32melse\u001b[0m\u001b[1;33m:\u001b[0m\u001b[1;33m\u001b[0m\u001b[1;33m\u001b[0m\u001b[0m\n\u001b[1;32m---> 13\u001b[1;33m             \u001b[0maxes\u001b[0m\u001b[1;33m[\u001b[0m\u001b[0mi\u001b[0m\u001b[1;33m,\u001b[0m\u001b[0mj\u001b[0m\u001b[1;33m]\u001b[0m\u001b[1;33m.\u001b[0m\u001b[0mscatter\u001b[0m\u001b[1;33m(\u001b[0m\u001b[0mX_train\u001b[0m\u001b[1;33m[\u001b[0m\u001b[1;33m:\u001b[0m\u001b[1;33m,\u001b[0m\u001b[0mj\u001b[0m\u001b[1;33m]\u001b[0m\u001b[1;33m,\u001b[0m\u001b[0mX_train\u001b[0m\u001b[1;33m[\u001b[0m\u001b[1;33m:\u001b[0m\u001b[1;33m,\u001b[0m\u001b[0mi\u001b[0m\u001b[1;33m]\u001b[0m\u001b[1;33m,\u001b[0m \u001b[0mc\u001b[0m\u001b[1;33m=\u001b[0m\u001b[0my_train\u001b[0m\u001b[1;33m,\u001b[0m \u001b[0mcmap\u001b[0m\u001b[1;33m=\u001b[0m\u001b[0mplt\u001b[0m\u001b[1;33m.\u001b[0m\u001b[0mcm\u001b[0m\u001b[1;33m.\u001b[0m\u001b[0mcool\u001b[0m\u001b[1;33m)\u001b[0m\u001b[1;33m\u001b[0m\u001b[1;33m\u001b[0m\u001b[0m\n\u001b[0m",
      "\u001b[1;31mNameError\u001b[0m: name 'X_train' is not defined"
     ]
    },
    {
     "data": {
      "image/png": "[encoded data removed]",
      "text/plain": [
       "<Figure size 1080x1080 with 16 Axes>"
      ]
     },
     "metadata": {
      "needs_background": "light"
     },
     "output_type": "display_data"
    }
   ],
   "source": [
    "f, axes = plt.subplots(4, 4,figsize=(15, 15))\n",
    "for i in range(4):\n",
    "    for j in range(4):\n",
    "        if j == 0 and i == 0:\n",
    "            axes[i,j].text(0.5, 0.5, 'Sepal. length', ha='center', va='center', size=24, alpha=.5)\n",
    "        elif j == 1 and i == 1:\n",
    "            axes[i,j].text(0.5, 0.5, 'Sepal. width', ha='center', va='center', size=24, alpha=.5)\n",
    "        elif j == 2 and i == 2:\n",
    "            axes[i,j].text(0.5, 0.5, 'Petal. length', ha='center', va='center', size=24, alpha=.5)\n",
    "        elif j == 3 and i == 3:\n",
    "            axes[i,j].text(0.5, 0.5, 'Petal. width', ha='center', va='center', size=24, alpha=.5)\n",
    "        else:\n",
    "            axes[i,j].scatter(X_train[:,j],X_train[:,i], c=y_train, cmap=plt.cm.cool)"
   ]
  },
  {
   "cell_type": "markdown",
   "metadata": {},
   "source": [
    "## Plot dataset\n",
    "Since the data has 4 features, 16 scatterplots (4x4) are plotted showing the dependencies between each pair of features."
   ]
  },
  {
   "cell_type": "markdown",
   "metadata": {},
   "source": [
    "## Task 1: Euclidean distance\n",
    "Compute Euclidean distance between two data points."
   ]
  },
  {
   "cell_type": "code",
   "execution_count": 5,
   "metadata": {},
   "outputs": [],
   "source": [
    "def euclidean_distance(x1, x2):\n",
    "    \"\"\"Compute pairwise Euclidean distances between two data points.\n",
    "    \n",
    "    Parameters\n",
    "    ----------\n",
    "    x1 : array, shape (N, 4)\n",
    "        First set of data points.\n",
    "    x2 : array, shape (M, 4)\n",
    "        Second set of data points.\n",
    "    \n",
    "    Returns\n",
    "    -------\n",
    "    distance : float array, shape (N, M)\n",
    "        Pairwise Euclidean distances between x1 and x2.\n",
    "    \"\"\"\n",
    "    # TODO\n",
    "    [N,Ne]=x1.shape\n",
    "    [M,Me]=x2.shape\n",
    "    distance=np.zeros((N,M))\n",
    "    distance=np.sqrt(np.matmul(x1**2,np.ones((Ne,M)))+np.transpose(np.matmul(x2**2,np.ones((Me,N))))-2*np.matmul(x1,np.transpose(x2)))\n",
    "    #print('Euclidean Distance:{}'.format(d))\n",
    "    return distance"
   ]
  },
  {
   "cell_type": "markdown",
   "metadata": {},
   "source": [
    "## Task 2: get k nearest neighbors' labels\n",
    "Get the labels of the *k* nearest neighbors of the datapoint *x_new*."
   ]
  },
  {
   "cell_type": "code",
   "execution_count": 151,
   "metadata": {},
   "outputs": [],
   "source": [
    "def get_neighbors_labels(X_train, y_train, X_new, k):\n",
    "    \"\"\"Get the labels of the k nearest neighbors of the datapoints x_new.\n",
    "    \n",
    "    Parameters\n",
    "    ----------\n",
    "    X_train : array, shape (N_train, 4)\n",
    "        Training features.\n",
    "    y_train : array, shape (N_train)\n",
    "        Training labels.\n",
    "    X_new : array, shape (M, 4)\n",
    "        Data points for which the neighbors have to be found.\n",
    "    k : int\n",
    "        Number of neighbors to return.\n",
    "        \n",
    "    Returns\n",
    "    -------\n",
    "    neighbors_labels : array, shape (M, k)\n",
    "        Array containing the labels of the k nearest neighbors.\n",
    "    \"\"\"\n",
    "    # TODO\n",
    "    [N,Ne]=X_train.shape\n",
    "    [M,Me]=X_new.shape\n",
    "    A=np.zeros((N,M))\n",
    "    A=euclidean_distance(X_train,X_new)\n",
    "    neighbor=np.zeros((k,M))\n",
    "    neighbors_labels=np.zeros((M,k))\n",
    "    '''\n",
    "    for i in range(M):\n",
    "        neighbor=np.argpartition(A[:,i],k)[:k]\n",
    "        for j in range(k):\n",
    "            a=neighbor[j]\n",
    "            neighbors_labels[i,j]=y_train[a]\n",
    "        end\n",
    "    end\n",
    "    '''\n",
    "    neighbor=np.argpartition(A,k,axis=0)[:k,:]\n",
    "    neighbors_labels=np.transpose(y_train[neighbor])\n",
    "    global test_nl,test_n\n",
    "    test_n=neighbor\n",
    "    test_nl=neighbors_labels\n",
    "    return neighbors_labels"
   ]
  },
  {
   "cell_type": "markdown",
   "metadata": {},
   "source": [
    "## Task 3: get the majority label\n",
    "For the previously computed labels of the *k* nearest neighbors, compute the actual response. I.e. give back the class of the majority of nearest neighbors. In case of a tie, choose the \"lowest\" label (i.e. the order of tie resolutions is 0 > 1 > 2)."
   ]
  },
  {
   "cell_type": "code",
   "execution_count": 152,
   "metadata": {},
   "outputs": [],
   "source": [
    "def get_response(neighbors_labels, num_classes=3):\n",
    "    \"\"\"Predict label given the set of neighbors.\n",
    "    \n",
    "    Parameters\n",
    "    ----------\n",
    "    neighbors_labels : array, shape (M, k)\n",
    "        Array containing the labels of the k nearest neighbors per data point.\n",
    "    num_classes : int\n",
    "        Number of classes in the dataset.\n",
    "    \n",
    "    Returns\n",
    "    -------\n",
    "    y : int array, shape (M,)\n",
    "        Majority class among the neighbors.\n",
    "    \"\"\"\n",
    "    # TODO\n",
    "    class_votes = np.zeros(num_classes)\n",
    "    [M,k]=neighbors_labels.shape\n",
    "    y=np.arange(M)\n",
    "    for i in range(M):    \n",
    "        y[i]=np.argmax(np.bincount(neighbors_labels[i,:]))\n",
    "    \n",
    "    #y=np.apply_along_axis(np.bincount,0,neighbors_labels)\n",
    "    global test_y\n",
    "    test_y=y\n",
    "    return y"
   ]
  },
  {
   "cell_type": "markdown",
   "metadata": {},
   "source": [
    "## Task 4: compute accuracy\n",
    "Compute the accuracy of the generated predictions."
   ]
  },
  {
   "cell_type": "code",
   "execution_count": 153,
   "metadata": {},
   "outputs": [],
   "source": [
    "def compute_accuracy(y_pred, y_test):\n",
    "    \"\"\"Compute accuracy of prediction.\n",
    "    \n",
    "    Parameters\n",
    "    ----------\n",
    "    y_pred : array, shape (N_test)\n",
    "        Predicted labels.\n",
    "    y_test : array, shape (N_test)\n",
    "        True labels.\n",
    "    \"\"\"\n",
    "    # TODO\n",
    "    accuracy=np.sum(y_pred==y_test)/len(y_test)\n",
    "    global test_a,test_b\n",
    "    test_a=np.sum(y_pred==y_test)\n",
    "    test_b=len(y_test)\n",
    "    return accuracy"
   ]
  },
  {
   "cell_type": "code",
   "execution_count": 154,
   "metadata": {},
   "outputs": [],
   "source": [
    "# This function is given, nothing to do here.\n",
    "def predict(X_train, y_train, X_test, k):\n",
    "    \"\"\"Generate predictions for all points in the test set.\n",
    "    \n",
    "    Parameters\n",
    "    ----------\n",
    "    X_train : array, shape (N_train, 4)\n",
    "        Training features.        \n",
    "    y_train : array, shape (N_train)\n",
    "        Training labels.\n",
    "    X_test : array, shape (N_test, 4)\n",
    "        Test features.\n",
    "    k : int\n",
    "        Number of neighbors to consider.\n",
    "    \n",
    "    Returns\n",
    "    -------\n",
    "    y_pred : array, shape (N_test)\n",
    "        Predictions for the test data.\n",
    "    \"\"\"\n",
    "    neighbors = get_neighbors_labels(X_train, y_train, X_test, k)\n",
    "    y_pred = get_response(neighbors)\n",
    "    return y_pred"
   ]
  },
  {
   "cell_type": "markdown",
   "metadata": {},
   "source": [
    "## Testing\n",
    "Should output an accuracy of 0.9473684210526315."
   ]
  },
  {
   "cell_type": "code",
   "execution_count": 155,
   "metadata": {
    "scrolled": true
   },
   "outputs": [
    {
     "name": "stdout",
     "output_type": "stream",
     "text": [
      "Training set: 112 samples\n",
      "Test set: 38 samples\n",
      "Accuracy = 0.9473684210526315\n"
     ]
    }
   ],
   "source": [
    "# prepare data\n",
    "split = 0.75\n",
    "X_train, X_test, y_train, y_test = load_dataset(split)\n",
    "print('Training set: {0} samples'.format(X_train.shape[0]))\n",
    "print('Test set: {0} samples'.format(X_test.shape[0]))\n",
    "\n",
    "# generate predictions\n",
    "k = 3\n",
    "y_pred = predict(X_train, y_train, X_test, k)\n",
    "accuracy = compute_accuracy(y_pred, y_test)\n",
    "print('Accuracy = {0}'.format(accuracy))"
   ]
  },
  {
   "cell_type": "code",
   "execution_count": null,
   "metadata": {},
   "outputs": [],
   "source": []
  },
  {
   "cell_type": "code",
   "execution_count": null,
   "metadata": {},
   "outputs": [],
   "source": []
  }
 ],
 "metadata": {
  "kernelspec": {
   "display_name": "Python 3",
   "language": "python",
   "name": "python3"
  },
  "language_info": {
   "codemirror_mode": {
    "name": "ipython",
    "version": 3
   },
   "file_extension": ".py",
   "mimetype": "text/x-python",
   "name": "python",
   "nbconvert_exporter": "python",
   "pygments_lexer": "ipython3",
   "version": "3.8.5"
  },
  "toc": {
   "colors": {
    "hover_highlight": "#DAA520",
    "navigate_num": "#000000",
    "navigate_text": "#333333",
    "running_highlight": "#FF0000",
    "selected_highlight": "#FFD700",
    "sidebar_border": "#EEEEEE",
    "wrapper_background": "#FFFFFF"
   },
   "moveMenuLeft": true,
   "nav_menu": {
    "height": "207px",
    "width": "252px"
   },
   "navigate_menu": true,
   "number_sections": true,
   "sideBar": true,
   "threshold": 4,
   "toc_cell": false,
   "toc_section_display": "block",
   "toc_window_display": false,
   "widenNotebook": false
  },
  "varInspector": {
   "cols": {
    "lenName": 16,
    "lenType": 16,
    "lenVar": 40
   },
   "kernels_config": {
    "python": {
     "delete_cmd_postfix": "",
     "delete_cmd_prefix": "del ",
     "library": "var_list.py",
     "varRefreshCmd": "print(var_dic_list())"
    },
    "r": {
     "delete_cmd_postfix": ") ",
     "delete_cmd_prefix": "rm(",
     "library": "var_list.r",
     "varRefreshCmd": "cat(var_dic_list()) "
    }
   },
   "position": {
    "height": "439px",
    "left": "767px",
    "right": "20px",
    "top": "110px",
    "width": "496px"
   },
   "types_to_exclude": [
    "module",
    "function",
    "builtin_function_or_method",
    "instance",
    "_Feature"
   ],
   "window_display": false
  }
 },
 "nbformat": 4,
 "nbformat_minor": 4
}
